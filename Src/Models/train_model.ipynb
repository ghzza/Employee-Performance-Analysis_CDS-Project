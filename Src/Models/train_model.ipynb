{
 "cells": [
  {
   "cell_type": "markdown",
   "id": "7cee3635",
   "metadata": {},
   "source": [
    "# Load Data and Import Library"
   ]
  },
  {
   "cell_type": "code",
   "execution_count": 1,
   "id": "b2e12a91",
   "metadata": {
    "ExecuteTime": {
     "end_time": "2021-10-01T13:18:09.180519Z",
     "start_time": "2021-10-01T13:18:07.986251Z"
    }
   },
   "outputs": [],
   "source": [
    "import pandas as pd\n",
    "import numpy as np\n",
    "import seaborn as sns\n",
    "import matplotlib.pyplot as plt\n",
    "import scipy\n",
    "\n",
    "import warnings\n",
    "warnings.filterwarnings(\"ignore\")"
   ]
  },
  {
   "cell_type": "code",
   "execution_count": 2,
   "id": "3ddfff3b",
   "metadata": {
    "ExecuteTime": {
     "end_time": "2021-10-01T13:18:09.211527Z",
     "start_time": "2021-10-01T13:18:09.182520Z"
    }
   },
   "outputs": [
    {
     "data": {
      "text/html": [
       "<div>\n",
       "<style scoped>\n",
       "    .dataframe tbody tr th:only-of-type {\n",
       "        vertical-align: middle;\n",
       "    }\n",
       "\n",
       "    .dataframe tbody tr th {\n",
       "        vertical-align: top;\n",
       "    }\n",
       "\n",
       "    .dataframe thead th {\n",
       "        text-align: right;\n",
       "    }\n",
       "</style>\n",
       "<table border=\"1\" class=\"dataframe\">\n",
       "  <thead>\n",
       "    <tr style=\"text-align: right;\">\n",
       "      <th></th>\n",
       "      <th>EmpJobLevel</th>\n",
       "      <th>ExperienceYearsAtThisCompany</th>\n",
       "      <th>ExperienceYearsInCurrentRole</th>\n",
       "      <th>YearsSinceLastPromotion</th>\n",
       "      <th>YearsWithCurrManager</th>\n",
       "      <th>TotalWorkExperienceInYears</th>\n",
       "      <th>Age</th>\n",
       "      <th>EmpEnvironmentSatisfaction</th>\n",
       "      <th>EmpLastSalaryHikePercent</th>\n",
       "      <th>EmpJobRole</th>\n",
       "      <th>EmpDepartment</th>\n",
       "      <th>PerformanceRating</th>\n",
       "    </tr>\n",
       "  </thead>\n",
       "  <tbody>\n",
       "    <tr>\n",
       "      <th>0</th>\n",
       "      <td>2</td>\n",
       "      <td>6</td>\n",
       "      <td>2</td>\n",
       "      <td>0</td>\n",
       "      <td>4</td>\n",
       "      <td>7</td>\n",
       "      <td>34</td>\n",
       "      <td>1</td>\n",
       "      <td>17</td>\n",
       "      <td>5</td>\n",
       "      <td>4</td>\n",
       "      <td>3</td>\n",
       "    </tr>\n",
       "    <tr>\n",
       "      <th>1</th>\n",
       "      <td>2</td>\n",
       "      <td>7</td>\n",
       "      <td>4</td>\n",
       "      <td>7</td>\n",
       "      <td>7</td>\n",
       "      <td>15</td>\n",
       "      <td>40</td>\n",
       "      <td>2</td>\n",
       "      <td>12</td>\n",
       "      <td>5</td>\n",
       "      <td>4</td>\n",
       "      <td>2</td>\n",
       "    </tr>\n",
       "    <tr>\n",
       "      <th>2</th>\n",
       "      <td>2</td>\n",
       "      <td>6</td>\n",
       "      <td>3</td>\n",
       "      <td>1</td>\n",
       "      <td>5</td>\n",
       "      <td>6</td>\n",
       "      <td>25</td>\n",
       "      <td>2</td>\n",
       "      <td>12</td>\n",
       "      <td>3</td>\n",
       "      <td>1</td>\n",
       "      <td>3</td>\n",
       "    </tr>\n",
       "    <tr>\n",
       "      <th>3</th>\n",
       "      <td>2</td>\n",
       "      <td>3</td>\n",
       "      <td>2</td>\n",
       "      <td>1</td>\n",
       "      <td>2</td>\n",
       "      <td>10</td>\n",
       "      <td>39</td>\n",
       "      <td>1</td>\n",
       "      <td>19</td>\n",
       "      <td>13</td>\n",
       "      <td>5</td>\n",
       "      <td>2</td>\n",
       "    </tr>\n",
       "    <tr>\n",
       "      <th>4</th>\n",
       "      <td>3</td>\n",
       "      <td>0</td>\n",
       "      <td>0</td>\n",
       "      <td>0</td>\n",
       "      <td>0</td>\n",
       "      <td>11</td>\n",
       "      <td>33</td>\n",
       "      <td>1</td>\n",
       "      <td>20</td>\n",
       "      <td>13</td>\n",
       "      <td>5</td>\n",
       "      <td>4</td>\n",
       "    </tr>\n",
       "    <tr>\n",
       "      <th>...</th>\n",
       "      <td>...</td>\n",
       "      <td>...</td>\n",
       "      <td>...</td>\n",
       "      <td>...</td>\n",
       "      <td>...</td>\n",
       "      <td>...</td>\n",
       "      <td>...</td>\n",
       "      <td>...</td>\n",
       "      <td>...</td>\n",
       "      <td>...</td>\n",
       "      <td>...</td>\n",
       "      <td>...</td>\n",
       "    </tr>\n",
       "    <tr>\n",
       "      <th>1496</th>\n",
       "      <td>2</td>\n",
       "      <td>7</td>\n",
       "      <td>7</td>\n",
       "      <td>1</td>\n",
       "      <td>7</td>\n",
       "      <td>10</td>\n",
       "      <td>31</td>\n",
       "      <td>3</td>\n",
       "      <td>22</td>\n",
       "      <td>3</td>\n",
       "      <td>1</td>\n",
       "      <td>4</td>\n",
       "    </tr>\n",
       "    <tr>\n",
       "      <th>1497</th>\n",
       "      <td>1</td>\n",
       "      <td>5</td>\n",
       "      <td>4</td>\n",
       "      <td>0</td>\n",
       "      <td>3</td>\n",
       "      <td>6</td>\n",
       "      <td>26</td>\n",
       "      <td>4</td>\n",
       "      <td>20</td>\n",
       "      <td>11</td>\n",
       "      <td>4</td>\n",
       "      <td>4</td>\n",
       "    </tr>\n",
       "    <tr>\n",
       "      <th>1498</th>\n",
       "      <td>1</td>\n",
       "      <td>4</td>\n",
       "      <td>3</td>\n",
       "      <td>0</td>\n",
       "      <td>0</td>\n",
       "      <td>5</td>\n",
       "      <td>38</td>\n",
       "      <td>4</td>\n",
       "      <td>21</td>\n",
       "      <td>3</td>\n",
       "      <td>1</td>\n",
       "      <td>4</td>\n",
       "    </tr>\n",
       "    <tr>\n",
       "      <th>1499</th>\n",
       "      <td>2</td>\n",
       "      <td>5</td>\n",
       "      <td>4</td>\n",
       "      <td>1</td>\n",
       "      <td>2</td>\n",
       "      <td>7</td>\n",
       "      <td>32</td>\n",
       "      <td>3</td>\n",
       "      <td>24</td>\n",
       "      <td>12</td>\n",
       "      <td>4</td>\n",
       "      <td>4</td>\n",
       "    </tr>\n",
       "    <tr>\n",
       "      <th>1500</th>\n",
       "      <td>2</td>\n",
       "      <td>5</td>\n",
       "      <td>2</td>\n",
       "      <td>0</td>\n",
       "      <td>1</td>\n",
       "      <td>11</td>\n",
       "      <td>50</td>\n",
       "      <td>2</td>\n",
       "      <td>13</td>\n",
       "      <td>13</td>\n",
       "      <td>4</td>\n",
       "      <td>4</td>\n",
       "    </tr>\n",
       "  </tbody>\n",
       "</table>\n",
       "<p>1501 rows × 12 columns</p>\n",
       "</div>"
      ],
      "text/plain": [
       "      EmpJobLevel  ExperienceYearsAtThisCompany  ExperienceYearsInCurrentRole  \\\n",
       "0               2                             6                             2   \n",
       "1               2                             7                             4   \n",
       "2               2                             6                             3   \n",
       "3               2                             3                             2   \n",
       "4               3                             0                             0   \n",
       "...           ...                           ...                           ...   \n",
       "1496            2                             7                             7   \n",
       "1497            1                             5                             4   \n",
       "1498            1                             4                             3   \n",
       "1499            2                             5                             4   \n",
       "1500            2                             5                             2   \n",
       "\n",
       "      YearsSinceLastPromotion  YearsWithCurrManager  \\\n",
       "0                           0                     4   \n",
       "1                           7                     7   \n",
       "2                           1                     5   \n",
       "3                           1                     2   \n",
       "4                           0                     0   \n",
       "...                       ...                   ...   \n",
       "1496                        1                     7   \n",
       "1497                        0                     3   \n",
       "1498                        0                     0   \n",
       "1499                        1                     2   \n",
       "1500                        0                     1   \n",
       "\n",
       "      TotalWorkExperienceInYears  Age  EmpEnvironmentSatisfaction  \\\n",
       "0                              7   34                           1   \n",
       "1                             15   40                           2   \n",
       "2                              6   25                           2   \n",
       "3                             10   39                           1   \n",
       "4                             11   33                           1   \n",
       "...                          ...  ...                         ...   \n",
       "1496                          10   31                           3   \n",
       "1497                           6   26                           4   \n",
       "1498                           5   38                           4   \n",
       "1499                           7   32                           3   \n",
       "1500                          11   50                           2   \n",
       "\n",
       "      EmpLastSalaryHikePercent  EmpJobRole  EmpDepartment  PerformanceRating  \n",
       "0                           17           5              4                  3  \n",
       "1                           12           5              4                  2  \n",
       "2                           12           3              1                  3  \n",
       "3                           19          13              5                  2  \n",
       "4                           20          13              5                  4  \n",
       "...                        ...         ...            ...                ...  \n",
       "1496                        22           3              1                  4  \n",
       "1497                        20          11              4                  4  \n",
       "1498                        21           3              1                  4  \n",
       "1499                        24          12              4                  4  \n",
       "1500                        13          13              4                  4  \n",
       "\n",
       "[1501 rows x 12 columns]"
      ]
     },
     "execution_count": 2,
     "metadata": {},
     "output_type": "execute_result"
    }
   ],
   "source": [
    "df_train = pd.read_csv(r'C:\\Users\\Ghaza\\Downloads\\CDS Project\\Data\\Processed\\train_data.csv')\n",
    "df_train"
   ]
  },
  {
   "cell_type": "markdown",
   "id": "637783c5",
   "metadata": {},
   "source": [
    "# Assign X_train, X_test, y_train, y_test"
   ]
  },
  {
   "cell_type": "code",
   "execution_count": 3,
   "id": "89acf1ab",
   "metadata": {
    "ExecuteTime": {
     "end_time": "2021-10-01T13:18:09.227531Z",
     "start_time": "2021-10-01T13:18:09.213527Z"
    }
   },
   "outputs": [],
   "source": [
    "X_train = df_train.iloc[:, :-1]\n",
    "y_train = df_train.PerformanceRating\n"
   ]
  },
  {
   "cell_type": "code",
   "execution_count": 4,
   "id": "b43f4961",
   "metadata": {
    "ExecuteTime": {
     "end_time": "2021-10-01T13:18:09.258872Z",
     "start_time": "2021-10-01T13:18:09.229531Z"
    }
   },
   "outputs": [
    {
     "data": {
      "text/html": [
       "<div>\n",
       "<style scoped>\n",
       "    .dataframe tbody tr th:only-of-type {\n",
       "        vertical-align: middle;\n",
       "    }\n",
       "\n",
       "    .dataframe tbody tr th {\n",
       "        vertical-align: top;\n",
       "    }\n",
       "\n",
       "    .dataframe thead th {\n",
       "        text-align: right;\n",
       "    }\n",
       "</style>\n",
       "<table border=\"1\" class=\"dataframe\">\n",
       "  <thead>\n",
       "    <tr style=\"text-align: right;\">\n",
       "      <th></th>\n",
       "      <th>EmpJobLevel</th>\n",
       "      <th>ExperienceYearsAtThisCompany</th>\n",
       "      <th>ExperienceYearsInCurrentRole</th>\n",
       "      <th>YearsSinceLastPromotion</th>\n",
       "      <th>YearsWithCurrManager</th>\n",
       "      <th>TotalWorkExperienceInYears</th>\n",
       "      <th>Age</th>\n",
       "      <th>EmpEnvironmentSatisfaction</th>\n",
       "      <th>EmpLastSalaryHikePercent</th>\n",
       "      <th>EmpJobRole</th>\n",
       "      <th>EmpDepartment</th>\n",
       "    </tr>\n",
       "  </thead>\n",
       "  <tbody>\n",
       "    <tr>\n",
       "      <th>0</th>\n",
       "      <td>2</td>\n",
       "      <td>6</td>\n",
       "      <td>2</td>\n",
       "      <td>0</td>\n",
       "      <td>4</td>\n",
       "      <td>7</td>\n",
       "      <td>34</td>\n",
       "      <td>1</td>\n",
       "      <td>17</td>\n",
       "      <td>5</td>\n",
       "      <td>4</td>\n",
       "    </tr>\n",
       "    <tr>\n",
       "      <th>1</th>\n",
       "      <td>2</td>\n",
       "      <td>7</td>\n",
       "      <td>4</td>\n",
       "      <td>7</td>\n",
       "      <td>7</td>\n",
       "      <td>15</td>\n",
       "      <td>40</td>\n",
       "      <td>2</td>\n",
       "      <td>12</td>\n",
       "      <td>5</td>\n",
       "      <td>4</td>\n",
       "    </tr>\n",
       "    <tr>\n",
       "      <th>2</th>\n",
       "      <td>2</td>\n",
       "      <td>6</td>\n",
       "      <td>3</td>\n",
       "      <td>1</td>\n",
       "      <td>5</td>\n",
       "      <td>6</td>\n",
       "      <td>25</td>\n",
       "      <td>2</td>\n",
       "      <td>12</td>\n",
       "      <td>3</td>\n",
       "      <td>1</td>\n",
       "    </tr>\n",
       "    <tr>\n",
       "      <th>3</th>\n",
       "      <td>2</td>\n",
       "      <td>3</td>\n",
       "      <td>2</td>\n",
       "      <td>1</td>\n",
       "      <td>2</td>\n",
       "      <td>10</td>\n",
       "      <td>39</td>\n",
       "      <td>1</td>\n",
       "      <td>19</td>\n",
       "      <td>13</td>\n",
       "      <td>5</td>\n",
       "    </tr>\n",
       "    <tr>\n",
       "      <th>4</th>\n",
       "      <td>3</td>\n",
       "      <td>0</td>\n",
       "      <td>0</td>\n",
       "      <td>0</td>\n",
       "      <td>0</td>\n",
       "      <td>11</td>\n",
       "      <td>33</td>\n",
       "      <td>1</td>\n",
       "      <td>20</td>\n",
       "      <td>13</td>\n",
       "      <td>5</td>\n",
       "    </tr>\n",
       "    <tr>\n",
       "      <th>...</th>\n",
       "      <td>...</td>\n",
       "      <td>...</td>\n",
       "      <td>...</td>\n",
       "      <td>...</td>\n",
       "      <td>...</td>\n",
       "      <td>...</td>\n",
       "      <td>...</td>\n",
       "      <td>...</td>\n",
       "      <td>...</td>\n",
       "      <td>...</td>\n",
       "      <td>...</td>\n",
       "    </tr>\n",
       "    <tr>\n",
       "      <th>1496</th>\n",
       "      <td>2</td>\n",
       "      <td>7</td>\n",
       "      <td>7</td>\n",
       "      <td>1</td>\n",
       "      <td>7</td>\n",
       "      <td>10</td>\n",
       "      <td>31</td>\n",
       "      <td>3</td>\n",
       "      <td>22</td>\n",
       "      <td>3</td>\n",
       "      <td>1</td>\n",
       "    </tr>\n",
       "    <tr>\n",
       "      <th>1497</th>\n",
       "      <td>1</td>\n",
       "      <td>5</td>\n",
       "      <td>4</td>\n",
       "      <td>0</td>\n",
       "      <td>3</td>\n",
       "      <td>6</td>\n",
       "      <td>26</td>\n",
       "      <td>4</td>\n",
       "      <td>20</td>\n",
       "      <td>11</td>\n",
       "      <td>4</td>\n",
       "    </tr>\n",
       "    <tr>\n",
       "      <th>1498</th>\n",
       "      <td>1</td>\n",
       "      <td>4</td>\n",
       "      <td>3</td>\n",
       "      <td>0</td>\n",
       "      <td>0</td>\n",
       "      <td>5</td>\n",
       "      <td>38</td>\n",
       "      <td>4</td>\n",
       "      <td>21</td>\n",
       "      <td>3</td>\n",
       "      <td>1</td>\n",
       "    </tr>\n",
       "    <tr>\n",
       "      <th>1499</th>\n",
       "      <td>2</td>\n",
       "      <td>5</td>\n",
       "      <td>4</td>\n",
       "      <td>1</td>\n",
       "      <td>2</td>\n",
       "      <td>7</td>\n",
       "      <td>32</td>\n",
       "      <td>3</td>\n",
       "      <td>24</td>\n",
       "      <td>12</td>\n",
       "      <td>4</td>\n",
       "    </tr>\n",
       "    <tr>\n",
       "      <th>1500</th>\n",
       "      <td>2</td>\n",
       "      <td>5</td>\n",
       "      <td>2</td>\n",
       "      <td>0</td>\n",
       "      <td>1</td>\n",
       "      <td>11</td>\n",
       "      <td>50</td>\n",
       "      <td>2</td>\n",
       "      <td>13</td>\n",
       "      <td>13</td>\n",
       "      <td>4</td>\n",
       "    </tr>\n",
       "  </tbody>\n",
       "</table>\n",
       "<p>1501 rows × 11 columns</p>\n",
       "</div>"
      ],
      "text/plain": [
       "      EmpJobLevel  ExperienceYearsAtThisCompany  ExperienceYearsInCurrentRole  \\\n",
       "0               2                             6                             2   \n",
       "1               2                             7                             4   \n",
       "2               2                             6                             3   \n",
       "3               2                             3                             2   \n",
       "4               3                             0                             0   \n",
       "...           ...                           ...                           ...   \n",
       "1496            2                             7                             7   \n",
       "1497            1                             5                             4   \n",
       "1498            1                             4                             3   \n",
       "1499            2                             5                             4   \n",
       "1500            2                             5                             2   \n",
       "\n",
       "      YearsSinceLastPromotion  YearsWithCurrManager  \\\n",
       "0                           0                     4   \n",
       "1                           7                     7   \n",
       "2                           1                     5   \n",
       "3                           1                     2   \n",
       "4                           0                     0   \n",
       "...                       ...                   ...   \n",
       "1496                        1                     7   \n",
       "1497                        0                     3   \n",
       "1498                        0                     0   \n",
       "1499                        1                     2   \n",
       "1500                        0                     1   \n",
       "\n",
       "      TotalWorkExperienceInYears  Age  EmpEnvironmentSatisfaction  \\\n",
       "0                              7   34                           1   \n",
       "1                             15   40                           2   \n",
       "2                              6   25                           2   \n",
       "3                             10   39                           1   \n",
       "4                             11   33                           1   \n",
       "...                          ...  ...                         ...   \n",
       "1496                          10   31                           3   \n",
       "1497                           6   26                           4   \n",
       "1498                           5   38                           4   \n",
       "1499                           7   32                           3   \n",
       "1500                          11   50                           2   \n",
       "\n",
       "      EmpLastSalaryHikePercent  EmpJobRole  EmpDepartment  \n",
       "0                           17           5              4  \n",
       "1                           12           5              4  \n",
       "2                           12           3              1  \n",
       "3                           19          13              5  \n",
       "4                           20          13              5  \n",
       "...                        ...         ...            ...  \n",
       "1496                        22           3              1  \n",
       "1497                        20          11              4  \n",
       "1498                        21           3              1  \n",
       "1499                        24          12              4  \n",
       "1500                        13          13              4  \n",
       "\n",
       "[1501 rows x 11 columns]"
      ]
     },
     "execution_count": 4,
     "metadata": {},
     "output_type": "execute_result"
    }
   ],
   "source": [
    "X_train"
   ]
  },
  {
   "cell_type": "code",
   "execution_count": 5,
   "id": "7ea488ca",
   "metadata": {
    "ExecuteTime": {
     "end_time": "2021-10-01T13:18:09.274461Z",
     "start_time": "2021-10-01T13:18:09.260916Z"
    }
   },
   "outputs": [
    {
     "data": {
      "text/plain": [
       "0       3\n",
       "1       2\n",
       "2       3\n",
       "3       2\n",
       "4       4\n",
       "       ..\n",
       "1496    4\n",
       "1497    4\n",
       "1498    4\n",
       "1499    4\n",
       "1500    4\n",
       "Name: PerformanceRating, Length: 1501, dtype: int64"
      ]
     },
     "execution_count": 5,
     "metadata": {},
     "output_type": "execute_result"
    }
   ],
   "source": [
    "y_train"
   ]
  },
  {
   "cell_type": "markdown",
   "id": "e141d684",
   "metadata": {},
   "source": [
    "# Machine Learning Model"
   ]
  },
  {
   "cell_type": "markdown",
   "id": "2ff9cb46",
   "metadata": {},
   "source": [
    "## XGBoost"
   ]
  },
  {
   "cell_type": "code",
   "execution_count": 6,
   "id": "e162e805",
   "metadata": {
    "ExecuteTime": {
     "end_time": "2021-10-01T13:18:39.544135Z",
     "start_time": "2021-10-01T13:18:09.276463Z"
    }
   },
   "outputs": [
    {
     "name": "stdout",
     "output_type": "stream",
     "text": [
      "Fitting 5 folds for each of 10 candidates, totalling 50 fits\n",
      "[20:18:39] WARNING: C:/Users/Administrator/workspace/xgboost-win64_release_1.4.0/src/learner.cc:1095: Starting in XGBoost 1.3.0, the default evaluation metric used with the objective 'multi:softprob' was changed from 'merror' to 'mlogloss'. Explicitly set eval_metric if you'd like to restore the old behavior.\n",
      "{'min_child_weight': 1, 'max_depth': 8, 'learning_rate': 0.15, 'gamma': 0.3, 'colsample_bytree': 0.5}\n"
     ]
    }
   ],
   "source": [
    "from xgboost import XGBClassifier\n",
    "from sklearn.model_selection import RandomizedSearchCV\n",
    "\n",
    "# defining parameter range \n",
    "\n",
    "parameters = {\"learning_rate\"    : [0.05, 0.10, 0.15, 0.20, 0.25, 0.30 ] ,\n",
    " \"max_depth\"        : [ 3, 4, 5, 6, 8, 10, 12, 15],\n",
    " \"min_child_weight\" : [ 1, 3, 5, 7 ],\n",
    " \"gamma\"            : [ 0.0, 0.1, 0.2 , 0.3, 0.4 ],\n",
    " \"colsample_bytree\" : [ 0.3, 0.4, 0.5 , 0.7 ] }\n",
    "   \n",
    "best_xgb = RandomizedSearchCV(XGBClassifier(), parameters, refit = True, verbose = 3,n_jobs=-1) \n",
    "   \n",
    "# fitting the model for grid search \n",
    "best_xgb = best_xgb.fit(X_train, y_train) \n",
    " \n",
    "# print best parameter after tuning \n",
    "print(best_xgb.best_params_)"
   ]
  },
  {
   "cell_type": "code",
   "execution_count": 16,
   "id": "c3da8e26",
   "metadata": {
    "ExecuteTime": {
     "end_time": "2021-10-01T13:24:36.925843Z",
     "start_time": "2021-10-01T13:24:36.150667Z"
    }
   },
   "outputs": [
    {
     "name": "stdout",
     "output_type": "stream",
     "text": [
      "[20:24:36] WARNING: C:/Users/Administrator/workspace/xgboost-win64_release_1.4.0/src/learner.cc:1095: Starting in XGBoost 1.3.0, the default evaluation metric used with the objective 'multi:softprob' was changed from 'merror' to 'mlogloss'. Explicitly set eval_metric if you'd like to restore the old behavior.\n"
     ]
    }
   ],
   "source": [
    "best_xgb = XGBClassifier(\n",
    "    min_child_weight = 1, max_depth = 8, learning_rate=0.15, gamma=0.3, colsample_bytree=0.5, n_jobs=-1\n",
    ")\n",
    "\n",
    "best_xgb = best_xgb.fit(X_train, y_train)"
   ]
  },
  {
   "cell_type": "markdown",
   "id": "6a9ba201",
   "metadata": {},
   "source": [
    "### Feature importance"
   ]
  },
  {
   "cell_type": "code",
   "execution_count": 20,
   "id": "2b20737d",
   "metadata": {
    "ExecuteTime": {
     "end_time": "2021-10-01T13:26:05.489137Z",
     "start_time": "2021-10-01T13:26:05.247576Z"
    }
   },
   "outputs": [
    {
     "data": {
      "image/png": "[encoded data removed]",
      "text/plain": [
       "<Figure size 432x288 with 1 Axes>"
      ]
     },
     "metadata": {
      "needs_background": "light"
     },
     "output_type": "display_data"
    }
   ],
   "source": [
    "from xgboost import plot_importance\n",
    "\n",
    "plot_importance(best_xgb)\n",
    "plt.show()"
   ]
  },
  {
   "cell_type": "markdown",
   "id": "c18ebc54",
   "metadata": {},
   "source": [
    "Based on graph in above,the three best feature that considered as important to the prediction model are **Age, TotalWorkExperienceInYears, and ExperienceYearsAtThisCompany**"
   ]
  },
  {
   "cell_type": "markdown",
   "id": "6d86e7f1",
   "metadata": {},
   "source": [
    "### Save Model"
   ]
  },
  {
   "cell_type": "code",
   "execution_count": 7,
   "id": "4d7af364",
   "metadata": {
    "ExecuteTime": {
     "end_time": "2021-10-01T13:18:39.622152Z",
     "start_time": "2021-10-01T13:18:39.546137Z"
    }
   },
   "outputs": [],
   "source": [
    "# Import pickle Package\n",
    "\n",
    "import pickle\n",
    "\n",
    "# Save the Modle to file in the current working directory\n",
    "\n",
    "xgb_Filename = \"xgb_model.pkl\"  \n",
    "\n",
    "with open(xgb_Filename, 'wb') as file:  \n",
    "    pickle.dump(best_xgb, file)"
   ]
  },
  {
   "cell_type": "markdown",
   "id": "8bd5ce73",
   "metadata": {},
   "source": [
    "## SVC"
   ]
  },
  {
   "cell_type": "code",
   "execution_count": 8,
   "id": "4cdcd839",
   "metadata": {
    "ExecuteTime": {
     "end_time": "2021-10-01T13:19:15.740898Z",
     "start_time": "2021-10-01T13:18:39.623154Z"
    }
   },
   "outputs": [
    {
     "name": "stdout",
     "output_type": "stream",
     "text": [
      "Fitting 5 folds for each of 8 candidates, totalling 40 fits\n",
      "{'kernel': 'linear', 'gamma': 'scale', 'C': 0.1}\n"
     ]
    }
   ],
   "source": [
    "from sklearn.model_selection import RandomizedSearchCV\n",
    "from sklearn.svm import SVC \n",
    "\n",
    "\n",
    "# defining parameter range \n",
    "param_grid_SVM = {'C': [0.1, 1, 10, 100],  \n",
    "              'gamma': [1, 0.1, 0.01, 0.001, 0.0001], \n",
    "              'gamma':['scale', 'auto'],\n",
    "              'kernel': ['linear']}  \n",
    "   \n",
    "best_SVC = RandomizedSearchCV(SVC(), param_grid_SVM, refit = True, verbose = 3,n_jobs=-1) \n",
    "   \n",
    "# fitting the model for grid search \n",
    "best_SVC = best_SVC.fit(X_train, y_train) \n",
    " \n",
    "# print best parameter after tuning \n",
    "print(best_SVC.best_params_) "
   ]
  },
  {
   "cell_type": "markdown",
   "id": "d88fb649",
   "metadata": {},
   "source": [
    "### Save Model"
   ]
  },
  {
   "cell_type": "code",
   "execution_count": 9,
   "id": "a7cd1317",
   "metadata": {
    "ExecuteTime": {
     "end_time": "2021-10-01T13:19:15.756900Z",
     "start_time": "2021-10-01T13:19:15.742896Z"
    }
   },
   "outputs": [],
   "source": [
    "# Import pickle Package\n",
    "\n",
    "import pickle\n",
    "\n",
    "# Save the Modle to file in the current working directory\n",
    "\n",
    "svc_Filename = \"svc_model.pkl\"  \n",
    "\n",
    "with open(svc_Filename, 'wb') as file:  \n",
    "    pickle.dump(best_SVC, file)"
   ]
  },
  {
   "cell_type": "markdown",
   "id": "50980724",
   "metadata": {},
   "source": [
    "## RandomForest"
   ]
  },
  {
   "cell_type": "code",
   "execution_count": 10,
   "id": "b1f71afe",
   "metadata": {
    "ExecuteTime": {
     "end_time": "2021-10-01T13:19:42.807043Z",
     "start_time": "2021-10-01T13:19:15.758900Z"
    }
   },
   "outputs": [
    {
     "name": "stdout",
     "output_type": "stream",
     "text": [
      "Best parameters found:\n",
      " {'n_estimators': 200, 'max_features': 'auto', 'max_depth': 7, 'criterion': 'entropy'}\n"
     ]
    }
   ],
   "source": [
    "from sklearn.ensemble import RandomForestClassifier\n",
    "from sklearn.model_selection import RandomizedSearchCV\n",
    "\n",
    "randomforest = RandomForestClassifier()\n",
    "\n",
    "param_grid = { \n",
    "    'n_estimators': [200, 500],\n",
    "    'max_features': ['auto', 'sqrt', 'log2'],\n",
    "    'max_depth' : [4,5,6,7,8],\n",
    "    'criterion' :['gini', 'entropy']\n",
    "}\n",
    "\n",
    "clf_randomforest = RandomizedSearchCV(randomforest, param_grid,refit=True, cv= 5)\n",
    "\n",
    "\n",
    "clf_randomforest = clf_randomforest.fit(X_train, y_train) \n",
    "print('Best parameters found:\\n', clf_randomforest.best_params_)"
   ]
  },
  {
   "cell_type": "markdown",
   "id": "11a4deb7",
   "metadata": {},
   "source": [
    "### Save Model"
   ]
  },
  {
   "cell_type": "code",
   "execution_count": 11,
   "id": "6f294789",
   "metadata": {
    "ExecuteTime": {
     "end_time": "2021-10-01T13:19:42.838662Z",
     "start_time": "2021-10-01T13:19:42.808043Z"
    }
   },
   "outputs": [],
   "source": [
    "# Import pickle Package\n",
    "\n",
    "import pickle\n",
    "\n",
    "# Save the Modle to file in the current working directory\n",
    "\n",
    "RF_Filename = \"RF_model.pkl\"  \n",
    "\n",
    "with open(RF_Filename, 'wb') as file:  \n",
    "    pickle.dump(clf_randomforest, file)"
   ]
  },
  {
   "cell_type": "markdown",
   "id": "9e62b6f2",
   "metadata": {},
   "source": [
    "## ANN"
   ]
  },
  {
   "cell_type": "code",
   "execution_count": 12,
   "id": "1b81272e",
   "metadata": {
    "ExecuteTime": {
     "end_time": "2021-10-01T13:19:45.496261Z",
     "start_time": "2021-10-01T13:19:42.839662Z"
    }
   },
   "outputs": [
    {
     "name": "stdout",
     "output_type": "stream",
     "text": [
      "Best parameters found:\n",
      " {'solver': 'adam', 'hidden_layer_sizes': (10, 30, 10), 'alpha': 0.0005, 'activation': 'relu'}\n"
     ]
    }
   ],
   "source": [
    "from sklearn.neural_network import MLPClassifier\n",
    "from sklearn.model_selection import RandomizedSearchCV\n",
    "mlp_gs = MLPClassifier(max_iter=100)\n",
    "parameter_space = {\n",
    "    'hidden_layer_sizes': [(10,30,10),(20,),(50,)],\n",
    "    'activation': ['sigmoid','tanh', 'relu'],\n",
    "    'solver': ['sgd', 'adam'],\n",
    "    'alpha': [0.0001, 0.05, 0.01, 0.0005]\n",
    "}\n",
    "clf = RandomizedSearchCV(mlp_gs, parameter_space,refit=True, n_jobs=-1, cv=5)\n",
    "clf = clf.fit(X_train, y_train) \n",
    "print('Best parameters found:\\n', clf.best_params_)"
   ]
  },
  {
   "cell_type": "markdown",
   "id": "325a9b07",
   "metadata": {},
   "source": [
    "### Save Model"
   ]
  },
  {
   "cell_type": "code",
   "execution_count": 13,
   "id": "ea815b7c",
   "metadata": {
    "ExecuteTime": {
     "end_time": "2021-10-01T13:19:45.512284Z",
     "start_time": "2021-10-01T13:19:45.498261Z"
    }
   },
   "outputs": [],
   "source": [
    "# Import pickle Package\n",
    "\n",
    "import pickle\n",
    "\n",
    "# Save the Modle to file in the current working directory\n",
    "\n",
    "ANN_Filename = \"ANN_model.pkl\"  \n",
    "\n",
    "with open(ANN_Filename, 'wb') as file:  \n",
    "    pickle.dump(clf, file)"
   ]
  }
 ],
 "metadata": {
  "kernelspec": {
   "display_name": "Python 3",
   "language": "python",
   "name": "python3"
  },
  "language_info": {
   "codemirror_mode": {
    "name": "ipython",
    "version": 3
   },
   "file_extension": ".py",
   "mimetype": "text/x-python",
   "name": "python",
   "nbconvert_exporter": "python",
   "pygments_lexer": "ipython3",
   "version": "3.8.8"
  },
  "toc": {
   "base_numbering": 1,
   "nav_menu": {},
   "number_sections": true,
   "sideBar": true,
   "skip_h1_title": false,
   "title_cell": "Table of Contents",
   "title_sidebar": "Contents",
   "toc_cell": false,
   "toc_position": {},
   "toc_section_display": true,
   "toc_window_display": true
  }
 },
 "nbformat": 4,
 "nbformat_minor": 5
}
