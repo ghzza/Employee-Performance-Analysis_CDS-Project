{
 "cells": [
  {
   "cell_type": "markdown",
   "id": "83b34e37",
   "metadata": {},
   "source": [
    "# Load Dataset and Import Library"
   ]
  },
  {
   "cell_type": "code",
   "execution_count": 1,
   "id": "39e87ecd",
   "metadata": {
    "ExecuteTime": {
     "end_time": "2021-10-01T13:20:08.495508Z",
     "start_time": "2021-10-01T13:20:07.274998Z"
    }
   },
   "outputs": [],
   "source": [
    "import pandas as pd\n",
    "import numpy as np\n",
    "import matplotlib.pyplot as plt\n",
    "import seaborn as sns\n",
    "import scipy"
   ]
  },
  {
   "cell_type": "code",
   "execution_count": 2,
   "id": "8de1d67b",
   "metadata": {
    "ExecuteTime": {
     "end_time": "2021-10-01T13:20:08.527515Z",
     "start_time": "2021-10-01T13:20:08.496509Z"
    }
   },
   "outputs": [
    {
     "data": {
      "text/html": [
       "<div>\n",
       "<style scoped>\n",
       "    .dataframe tbody tr th:only-of-type {\n",
       "        vertical-align: middle;\n",
       "    }\n",
       "\n",
       "    .dataframe tbody tr th {\n",
       "        vertical-align: top;\n",
       "    }\n",
       "\n",
       "    .dataframe thead th {\n",
       "        text-align: right;\n",
       "    }\n",
       "</style>\n",
       "<table border=\"1\" class=\"dataframe\">\n",
       "  <thead>\n",
       "    <tr style=\"text-align: right;\">\n",
       "      <th></th>\n",
       "      <th>EmpJobLevel</th>\n",
       "      <th>ExperienceYearsAtThisCompany</th>\n",
       "      <th>ExperienceYearsInCurrentRole</th>\n",
       "      <th>YearsSinceLastPromotion</th>\n",
       "      <th>YearsWithCurrManager</th>\n",
       "      <th>TotalWorkExperienceInYears</th>\n",
       "      <th>Age</th>\n",
       "      <th>EmpEnvironmentSatisfaction</th>\n",
       "      <th>EmpLastSalaryHikePercent</th>\n",
       "      <th>EmpJobRole</th>\n",
       "      <th>EmpDepartment</th>\n",
       "      <th>PerformanceRating</th>\n",
       "    </tr>\n",
       "  </thead>\n",
       "  <tbody>\n",
       "    <tr>\n",
       "      <th>0</th>\n",
       "      <td>1</td>\n",
       "      <td>1</td>\n",
       "      <td>0</td>\n",
       "      <td>0</td>\n",
       "      <td>0</td>\n",
       "      <td>3</td>\n",
       "      <td>31</td>\n",
       "      <td>3</td>\n",
       "      <td>14</td>\n",
       "      <td>14</td>\n",
       "      <td>5</td>\n",
       "      <td>3</td>\n",
       "    </tr>\n",
       "    <tr>\n",
       "      <th>1</th>\n",
       "      <td>2</td>\n",
       "      <td>5</td>\n",
       "      <td>4</td>\n",
       "      <td>0</td>\n",
       "      <td>3</td>\n",
       "      <td>5</td>\n",
       "      <td>35</td>\n",
       "      <td>1</td>\n",
       "      <td>16</td>\n",
       "      <td>13</td>\n",
       "      <td>5</td>\n",
       "      <td>3</td>\n",
       "    </tr>\n",
       "    <tr>\n",
       "      <th>2</th>\n",
       "      <td>2</td>\n",
       "      <td>5</td>\n",
       "      <td>4</td>\n",
       "      <td>1</td>\n",
       "      <td>2</td>\n",
       "      <td>11</td>\n",
       "      <td>47</td>\n",
       "      <td>3</td>\n",
       "      <td>17</td>\n",
       "      <td>13</td>\n",
       "      <td>5</td>\n",
       "      <td>3</td>\n",
       "    </tr>\n",
       "    <tr>\n",
       "      <th>3</th>\n",
       "      <td>2</td>\n",
       "      <td>1</td>\n",
       "      <td>0</td>\n",
       "      <td>0</td>\n",
       "      <td>0</td>\n",
       "      <td>17</td>\n",
       "      <td>41</td>\n",
       "      <td>3</td>\n",
       "      <td>16</td>\n",
       "      <td>1</td>\n",
       "      <td>0</td>\n",
       "      <td>3</td>\n",
       "    </tr>\n",
       "    <tr>\n",
       "      <th>4</th>\n",
       "      <td>2</td>\n",
       "      <td>4</td>\n",
       "      <td>2</td>\n",
       "      <td>0</td>\n",
       "      <td>3</td>\n",
       "      <td>20</td>\n",
       "      <td>38</td>\n",
       "      <td>2</td>\n",
       "      <td>20</td>\n",
       "      <td>14</td>\n",
       "      <td>5</td>\n",
       "      <td>3</td>\n",
       "    </tr>\n",
       "    <tr>\n",
       "      <th>...</th>\n",
       "      <td>...</td>\n",
       "      <td>...</td>\n",
       "      <td>...</td>\n",
       "      <td>...</td>\n",
       "      <td>...</td>\n",
       "      <td>...</td>\n",
       "      <td>...</td>\n",
       "      <td>...</td>\n",
       "      <td>...</td>\n",
       "      <td>...</td>\n",
       "      <td>...</td>\n",
       "      <td>...</td>\n",
       "    </tr>\n",
       "    <tr>\n",
       "      <th>167</th>\n",
       "      <td>1</td>\n",
       "      <td>4</td>\n",
       "      <td>3</td>\n",
       "      <td>0</td>\n",
       "      <td>2</td>\n",
       "      <td>5</td>\n",
       "      <td>27</td>\n",
       "      <td>3</td>\n",
       "      <td>11</td>\n",
       "      <td>14</td>\n",
       "      <td>5</td>\n",
       "      <td>3</td>\n",
       "    </tr>\n",
       "    <tr>\n",
       "      <th>168</th>\n",
       "      <td>1</td>\n",
       "      <td>2</td>\n",
       "      <td>2</td>\n",
       "      <td>2</td>\n",
       "      <td>1</td>\n",
       "      <td>2</td>\n",
       "      <td>25</td>\n",
       "      <td>4</td>\n",
       "      <td>18</td>\n",
       "      <td>12</td>\n",
       "      <td>4</td>\n",
       "      <td>3</td>\n",
       "    </tr>\n",
       "    <tr>\n",
       "      <th>169</th>\n",
       "      <td>1</td>\n",
       "      <td>4</td>\n",
       "      <td>2</td>\n",
       "      <td>0</td>\n",
       "      <td>2</td>\n",
       "      <td>5</td>\n",
       "      <td>35</td>\n",
       "      <td>3</td>\n",
       "      <td>24</td>\n",
       "      <td>7</td>\n",
       "      <td>4</td>\n",
       "      <td>3</td>\n",
       "    </tr>\n",
       "    <tr>\n",
       "      <th>170</th>\n",
       "      <td>1</td>\n",
       "      <td>1</td>\n",
       "      <td>0</td>\n",
       "      <td>0</td>\n",
       "      <td>0</td>\n",
       "      <td>1</td>\n",
       "      <td>28</td>\n",
       "      <td>1</td>\n",
       "      <td>14</td>\n",
       "      <td>9</td>\n",
       "      <td>4</td>\n",
       "      <td>3</td>\n",
       "    </tr>\n",
       "    <tr>\n",
       "      <th>171</th>\n",
       "      <td>5</td>\n",
       "      <td>5</td>\n",
       "      <td>2</td>\n",
       "      <td>4</td>\n",
       "      <td>2</td>\n",
       "      <td>28</td>\n",
       "      <td>56</td>\n",
       "      <td>4</td>\n",
       "      <td>13</td>\n",
       "      <td>8</td>\n",
       "      <td>4</td>\n",
       "      <td>3</td>\n",
       "    </tr>\n",
       "  </tbody>\n",
       "</table>\n",
       "<p>172 rows × 12 columns</p>\n",
       "</div>"
      ],
      "text/plain": [
       "     EmpJobLevel  ExperienceYearsAtThisCompany  ExperienceYearsInCurrentRole  \\\n",
       "0              1                             1                             0   \n",
       "1              2                             5                             4   \n",
       "2              2                             5                             4   \n",
       "3              2                             1                             0   \n",
       "4              2                             4                             2   \n",
       "..           ...                           ...                           ...   \n",
       "167            1                             4                             3   \n",
       "168            1                             2                             2   \n",
       "169            1                             4                             2   \n",
       "170            1                             1                             0   \n",
       "171            5                             5                             2   \n",
       "\n",
       "     YearsSinceLastPromotion  YearsWithCurrManager  \\\n",
       "0                          0                     0   \n",
       "1                          0                     3   \n",
       "2                          1                     2   \n",
       "3                          0                     0   \n",
       "4                          0                     3   \n",
       "..                       ...                   ...   \n",
       "167                        0                     2   \n",
       "168                        2                     1   \n",
       "169                        0                     2   \n",
       "170                        0                     0   \n",
       "171                        4                     2   \n",
       "\n",
       "     TotalWorkExperienceInYears  Age  EmpEnvironmentSatisfaction  \\\n",
       "0                             3   31                           3   \n",
       "1                             5   35                           1   \n",
       "2                            11   47                           3   \n",
       "3                            17   41                           3   \n",
       "4                            20   38                           2   \n",
       "..                          ...  ...                         ...   \n",
       "167                           5   27                           3   \n",
       "168                           2   25                           4   \n",
       "169                           5   35                           3   \n",
       "170                           1   28                           1   \n",
       "171                          28   56                           4   \n",
       "\n",
       "     EmpLastSalaryHikePercent  EmpJobRole  EmpDepartment  PerformanceRating  \n",
       "0                          14          14              5                  3  \n",
       "1                          16          13              5                  3  \n",
       "2                          17          13              5                  3  \n",
       "3                          16           1              0                  3  \n",
       "4                          20          14              5                  3  \n",
       "..                        ...         ...            ...                ...  \n",
       "167                        11          14              5                  3  \n",
       "168                        18          12              4                  3  \n",
       "169                        24           7              4                  3  \n",
       "170                        14           9              4                  3  \n",
       "171                        13           8              4                  3  \n",
       "\n",
       "[172 rows x 12 columns]"
      ]
     },
     "execution_count": 2,
     "metadata": {},
     "output_type": "execute_result"
    }
   ],
   "source": [
    "df_test = pd.read_csv(r'C:\\Users\\Ghaza\\Downloads\\CDS Project\\Data\\Processed\\test_data.csv')\n",
    "df_test"
   ]
  },
  {
   "cell_type": "markdown",
   "id": "c69399e2",
   "metadata": {},
   "source": [
    "## Assign X_test and y_test"
   ]
  },
  {
   "cell_type": "code",
   "execution_count": 3,
   "id": "3f59c917",
   "metadata": {
    "ExecuteTime": {
     "end_time": "2021-10-01T13:20:08.543519Z",
     "start_time": "2021-10-01T13:20:08.528516Z"
    }
   },
   "outputs": [],
   "source": [
    "X_test = df_test.iloc[:,:-1]\n",
    "y_test = df_test.PerformanceRating"
   ]
  },
  {
   "cell_type": "code",
   "execution_count": 4,
   "id": "4275fa5a",
   "metadata": {
    "ExecuteTime": {
     "end_time": "2021-10-01T13:20:08.559469Z",
     "start_time": "2021-10-01T13:20:08.545520Z"
    }
   },
   "outputs": [
    {
     "data": {
      "text/html": [
       "<div>\n",
       "<style scoped>\n",
       "    .dataframe tbody tr th:only-of-type {\n",
       "        vertical-align: middle;\n",
       "    }\n",
       "\n",
       "    .dataframe tbody tr th {\n",
       "        vertical-align: top;\n",
       "    }\n",
       "\n",
       "    .dataframe thead th {\n",
       "        text-align: right;\n",
       "    }\n",
       "</style>\n",
       "<table border=\"1\" class=\"dataframe\">\n",
       "  <thead>\n",
       "    <tr style=\"text-align: right;\">\n",
       "      <th></th>\n",
       "      <th>EmpJobLevel</th>\n",
       "      <th>ExperienceYearsAtThisCompany</th>\n",
       "      <th>ExperienceYearsInCurrentRole</th>\n",
       "      <th>YearsSinceLastPromotion</th>\n",
       "      <th>YearsWithCurrManager</th>\n",
       "      <th>TotalWorkExperienceInYears</th>\n",
       "      <th>Age</th>\n",
       "      <th>EmpEnvironmentSatisfaction</th>\n",
       "      <th>EmpLastSalaryHikePercent</th>\n",
       "      <th>EmpJobRole</th>\n",
       "      <th>EmpDepartment</th>\n",
       "    </tr>\n",
       "  </thead>\n",
       "  <tbody>\n",
       "    <tr>\n",
       "      <th>0</th>\n",
       "      <td>1</td>\n",
       "      <td>1</td>\n",
       "      <td>0</td>\n",
       "      <td>0</td>\n",
       "      <td>0</td>\n",
       "      <td>3</td>\n",
       "      <td>31</td>\n",
       "      <td>3</td>\n",
       "      <td>14</td>\n",
       "      <td>14</td>\n",
       "      <td>5</td>\n",
       "    </tr>\n",
       "    <tr>\n",
       "      <th>1</th>\n",
       "      <td>2</td>\n",
       "      <td>5</td>\n",
       "      <td>4</td>\n",
       "      <td>0</td>\n",
       "      <td>3</td>\n",
       "      <td>5</td>\n",
       "      <td>35</td>\n",
       "      <td>1</td>\n",
       "      <td>16</td>\n",
       "      <td>13</td>\n",
       "      <td>5</td>\n",
       "    </tr>\n",
       "    <tr>\n",
       "      <th>2</th>\n",
       "      <td>2</td>\n",
       "      <td>5</td>\n",
       "      <td>4</td>\n",
       "      <td>1</td>\n",
       "      <td>2</td>\n",
       "      <td>11</td>\n",
       "      <td>47</td>\n",
       "      <td>3</td>\n",
       "      <td>17</td>\n",
       "      <td>13</td>\n",
       "      <td>5</td>\n",
       "    </tr>\n",
       "    <tr>\n",
       "      <th>3</th>\n",
       "      <td>2</td>\n",
       "      <td>1</td>\n",
       "      <td>0</td>\n",
       "      <td>0</td>\n",
       "      <td>0</td>\n",
       "      <td>17</td>\n",
       "      <td>41</td>\n",
       "      <td>3</td>\n",
       "      <td>16</td>\n",
       "      <td>1</td>\n",
       "      <td>0</td>\n",
       "    </tr>\n",
       "    <tr>\n",
       "      <th>4</th>\n",
       "      <td>2</td>\n",
       "      <td>4</td>\n",
       "      <td>2</td>\n",
       "      <td>0</td>\n",
       "      <td>3</td>\n",
       "      <td>20</td>\n",
       "      <td>38</td>\n",
       "      <td>2</td>\n",
       "      <td>20</td>\n",
       "      <td>14</td>\n",
       "      <td>5</td>\n",
       "    </tr>\n",
       "    <tr>\n",
       "      <th>...</th>\n",
       "      <td>...</td>\n",
       "      <td>...</td>\n",
       "      <td>...</td>\n",
       "      <td>...</td>\n",
       "      <td>...</td>\n",
       "      <td>...</td>\n",
       "      <td>...</td>\n",
       "      <td>...</td>\n",
       "      <td>...</td>\n",
       "      <td>...</td>\n",
       "      <td>...</td>\n",
       "    </tr>\n",
       "    <tr>\n",
       "      <th>167</th>\n",
       "      <td>1</td>\n",
       "      <td>4</td>\n",
       "      <td>3</td>\n",
       "      <td>0</td>\n",
       "      <td>2</td>\n",
       "      <td>5</td>\n",
       "      <td>27</td>\n",
       "      <td>3</td>\n",
       "      <td>11</td>\n",
       "      <td>14</td>\n",
       "      <td>5</td>\n",
       "    </tr>\n",
       "    <tr>\n",
       "      <th>168</th>\n",
       "      <td>1</td>\n",
       "      <td>2</td>\n",
       "      <td>2</td>\n",
       "      <td>2</td>\n",
       "      <td>1</td>\n",
       "      <td>2</td>\n",
       "      <td>25</td>\n",
       "      <td>4</td>\n",
       "      <td>18</td>\n",
       "      <td>12</td>\n",
       "      <td>4</td>\n",
       "    </tr>\n",
       "    <tr>\n",
       "      <th>169</th>\n",
       "      <td>1</td>\n",
       "      <td>4</td>\n",
       "      <td>2</td>\n",
       "      <td>0</td>\n",
       "      <td>2</td>\n",
       "      <td>5</td>\n",
       "      <td>35</td>\n",
       "      <td>3</td>\n",
       "      <td>24</td>\n",
       "      <td>7</td>\n",
       "      <td>4</td>\n",
       "    </tr>\n",
       "    <tr>\n",
       "      <th>170</th>\n",
       "      <td>1</td>\n",
       "      <td>1</td>\n",
       "      <td>0</td>\n",
       "      <td>0</td>\n",
       "      <td>0</td>\n",
       "      <td>1</td>\n",
       "      <td>28</td>\n",
       "      <td>1</td>\n",
       "      <td>14</td>\n",
       "      <td>9</td>\n",
       "      <td>4</td>\n",
       "    </tr>\n",
       "    <tr>\n",
       "      <th>171</th>\n",
       "      <td>5</td>\n",
       "      <td>5</td>\n",
       "      <td>2</td>\n",
       "      <td>4</td>\n",
       "      <td>2</td>\n",
       "      <td>28</td>\n",
       "      <td>56</td>\n",
       "      <td>4</td>\n",
       "      <td>13</td>\n",
       "      <td>8</td>\n",
       "      <td>4</td>\n",
       "    </tr>\n",
       "  </tbody>\n",
       "</table>\n",
       "<p>172 rows × 11 columns</p>\n",
       "</div>"
      ],
      "text/plain": [
       "     EmpJobLevel  ExperienceYearsAtThisCompany  ExperienceYearsInCurrentRole  \\\n",
       "0              1                             1                             0   \n",
       "1              2                             5                             4   \n",
       "2              2                             5                             4   \n",
       "3              2                             1                             0   \n",
       "4              2                             4                             2   \n",
       "..           ...                           ...                           ...   \n",
       "167            1                             4                             3   \n",
       "168            1                             2                             2   \n",
       "169            1                             4                             2   \n",
       "170            1                             1                             0   \n",
       "171            5                             5                             2   \n",
       "\n",
       "     YearsSinceLastPromotion  YearsWithCurrManager  \\\n",
       "0                          0                     0   \n",
       "1                          0                     3   \n",
       "2                          1                     2   \n",
       "3                          0                     0   \n",
       "4                          0                     3   \n",
       "..                       ...                   ...   \n",
       "167                        0                     2   \n",
       "168                        2                     1   \n",
       "169                        0                     2   \n",
       "170                        0                     0   \n",
       "171                        4                     2   \n",
       "\n",
       "     TotalWorkExperienceInYears  Age  EmpEnvironmentSatisfaction  \\\n",
       "0                             3   31                           3   \n",
       "1                             5   35                           1   \n",
       "2                            11   47                           3   \n",
       "3                            17   41                           3   \n",
       "4                            20   38                           2   \n",
       "..                          ...  ...                         ...   \n",
       "167                           5   27                           3   \n",
       "168                           2   25                           4   \n",
       "169                           5   35                           3   \n",
       "170                           1   28                           1   \n",
       "171                          28   56                           4   \n",
       "\n",
       "     EmpLastSalaryHikePercent  EmpJobRole  EmpDepartment  \n",
       "0                          14          14              5  \n",
       "1                          16          13              5  \n",
       "2                          17          13              5  \n",
       "3                          16           1              0  \n",
       "4                          20          14              5  \n",
       "..                        ...         ...            ...  \n",
       "167                        11          14              5  \n",
       "168                        18          12              4  \n",
       "169                        24           7              4  \n",
       "170                        14           9              4  \n",
       "171                        13           8              4  \n",
       "\n",
       "[172 rows x 11 columns]"
      ]
     },
     "execution_count": 4,
     "metadata": {},
     "output_type": "execute_result"
    }
   ],
   "source": [
    "X_test"
   ]
  },
  {
   "cell_type": "code",
   "execution_count": 5,
   "id": "75775b71",
   "metadata": {
    "ExecuteTime": {
     "end_time": "2021-10-01T13:20:08.575333Z",
     "start_time": "2021-10-01T13:20:08.561470Z"
    }
   },
   "outputs": [
    {
     "data": {
      "text/plain": [
       "0      3\n",
       "1      3\n",
       "2      3\n",
       "3      3\n",
       "4      3\n",
       "      ..\n",
       "167    3\n",
       "168    3\n",
       "169    3\n",
       "170    3\n",
       "171    3\n",
       "Name: PerformanceRating, Length: 172, dtype: int64"
      ]
     },
     "execution_count": 5,
     "metadata": {},
     "output_type": "execute_result"
    }
   ],
   "source": [
    "y_test"
   ]
  },
  {
   "cell_type": "markdown",
   "id": "0124132a",
   "metadata": {},
   "source": [
    "# Load Machine Learning Model"
   ]
  },
  {
   "cell_type": "markdown",
   "id": "8aff7eca",
   "metadata": {},
   "source": [
    "## XGBoost Model"
   ]
  },
  {
   "cell_type": "code",
   "execution_count": 6,
   "id": "6fc19fb5",
   "metadata": {
    "ExecuteTime": {
     "end_time": "2021-10-01T13:20:09.348412Z",
     "start_time": "2021-10-01T13:20:08.576334Z"
    }
   },
   "outputs": [
    {
     "data": {
      "text/plain": [
       "RandomizedSearchCV(estimator=XGBClassifier(base_score=None, booster=None,\n",
       "                                           colsample_bylevel=None,\n",
       "                                           colsample_bynode=None,\n",
       "                                           colsample_bytree=None, gamma=None,\n",
       "                                           gpu_id=None, importance_type='gain',\n",
       "                                           interaction_constraints=None,\n",
       "                                           learning_rate=None,\n",
       "                                           max_delta_step=None, max_depth=None,\n",
       "                                           min_child_weight=None, missing=nan,\n",
       "                                           monotone_constraints=None,\n",
       "                                           n_estimators=100, n_job...\n",
       "                                           random_state=None, reg_alpha=None,\n",
       "                                           reg_lambda=None,\n",
       "                                           scale_pos_weight=None,\n",
       "                                           subsample=None, tree_method=None,\n",
       "                                           validate_parameters=None,\n",
       "                                           verbosity=None),\n",
       "                   n_jobs=-1,\n",
       "                   param_distributions={'colsample_bytree': [0.3, 0.4, 0.5,\n",
       "                                                             0.7],\n",
       "                                        'gamma': [0.0, 0.1, 0.2, 0.3, 0.4],\n",
       "                                        'learning_rate': [0.05, 0.1, 0.15, 0.2,\n",
       "                                                          0.25, 0.3],\n",
       "                                        'max_depth': [3, 4, 5, 6, 8, 10, 12,\n",
       "                                                      15],\n",
       "                                        'min_child_weight': [1, 3, 5, 7]},\n",
       "                   verbose=3)"
      ]
     },
     "execution_count": 6,
     "metadata": {},
     "output_type": "execute_result"
    }
   ],
   "source": [
    "import pickle\n",
    "\n",
    "xgb_Filename = \"xgb_model.pkl\" \n",
    "\n",
    "# Load the Model back from file\n",
    "with open(xgb_Filename, 'rb') as file:  \n",
    "    best_xgb = pickle.load(file)\n",
    "\n",
    "best_xgb"
   ]
  },
  {
   "cell_type": "markdown",
   "id": "9d81124f",
   "metadata": {},
   "source": [
    "## SVC Model"
   ]
  },
  {
   "cell_type": "code",
   "execution_count": 7,
   "id": "c921168d",
   "metadata": {
    "ExecuteTime": {
     "end_time": "2021-10-01T13:20:09.396423Z",
     "start_time": "2021-10-01T13:20:09.350413Z"
    }
   },
   "outputs": [
    {
     "data": {
      "text/plain": [
       "RandomizedSearchCV(estimator=SVC(), n_jobs=-1,\n",
       "                   param_distributions={'C': [0.1, 1, 10, 100],\n",
       "                                        'gamma': ['scale', 'auto'],\n",
       "                                        'kernel': ['linear']},\n",
       "                   verbose=3)"
      ]
     },
     "execution_count": 7,
     "metadata": {},
     "output_type": "execute_result"
    }
   ],
   "source": [
    "import pickle\n",
    "\n",
    "svc_Filename = \"svc_model.pkl\" \n",
    "\n",
    "# Load the Model back from file\n",
    "with open(svc_Filename, 'rb') as file:  \n",
    "    best_svc = pickle.load(file)\n",
    "\n",
    "best_svc"
   ]
  },
  {
   "cell_type": "markdown",
   "id": "ba3553e4",
   "metadata": {},
   "source": [
    "## RandomForest Model"
   ]
  },
  {
   "cell_type": "code",
   "execution_count": 8,
   "id": "b93e65d6",
   "metadata": {
    "ExecuteTime": {
     "end_time": "2021-10-01T13:20:09.492438Z",
     "start_time": "2021-10-01T13:20:09.398423Z"
    }
   },
   "outputs": [
    {
     "data": {
      "text/plain": [
       "RandomizedSearchCV(cv=5, estimator=RandomForestClassifier(),\n",
       "                   param_distributions={'criterion': ['gini', 'entropy'],\n",
       "                                        'max_depth': [4, 5, 6, 7, 8],\n",
       "                                        'max_features': ['auto', 'sqrt',\n",
       "                                                         'log2'],\n",
       "                                        'n_estimators': [200, 500]})"
      ]
     },
     "execution_count": 8,
     "metadata": {},
     "output_type": "execute_result"
    }
   ],
   "source": [
    "import pickle\n",
    "\n",
    "RF_Filename = \"RF_model.pkl\" \n",
    "\n",
    "# Load the Model back from file\n",
    "with open(RF_Filename, 'rb') as file:  \n",
    "    best_RF= pickle.load(file)\n",
    "\n",
    "best_RF"
   ]
  },
  {
   "cell_type": "markdown",
   "id": "2ecdc9d0",
   "metadata": {},
   "source": [
    "## ANN Model"
   ]
  },
  {
   "cell_type": "code",
   "execution_count": 9,
   "id": "ff38de9c",
   "metadata": {
    "ExecuteTime": {
     "end_time": "2021-10-01T13:20:09.524445Z",
     "start_time": "2021-10-01T13:20:09.494439Z"
    }
   },
   "outputs": [
    {
     "data": {
      "text/plain": [
       "RandomizedSearchCV(cv=5, estimator=MLPClassifier(max_iter=100), n_jobs=-1,\n",
       "                   param_distributions={'activation': ['sigmoid', 'tanh',\n",
       "                                                       'relu'],\n",
       "                                        'alpha': [0.0001, 0.05, 0.01, 0.0005],\n",
       "                                        'hidden_layer_sizes': [(10, 30, 10),\n",
       "                                                               (20,), (50,)],\n",
       "                                        'solver': ['sgd', 'adam']})"
      ]
     },
     "execution_count": 9,
     "metadata": {},
     "output_type": "execute_result"
    }
   ],
   "source": [
    "import pickle\n",
    "\n",
    "ann_Filename = \"ANN_model.pkl\" \n",
    "\n",
    "# Load the Model back from file\n",
    "with open(ann_Filename, 'rb') as file:  \n",
    "    best_ann= pickle.load(file)\n",
    "\n",
    "best_ann"
   ]
  },
  {
   "cell_type": "markdown",
   "id": "9b61775a",
   "metadata": {},
   "source": [
    "# Predict Model"
   ]
  },
  {
   "cell_type": "markdown",
   "id": "b6ef7098",
   "metadata": {},
   "source": [
    "## XGBoost"
   ]
  },
  {
   "cell_type": "code",
   "execution_count": 10,
   "id": "389f9f61",
   "metadata": {
    "ExecuteTime": {
     "end_time": "2021-10-01T13:20:09.556453Z",
     "start_time": "2021-10-01T13:20:09.526445Z"
    }
   },
   "outputs": [
    {
     "name": "stdout",
     "output_type": "stream",
     "text": [
      "              precision    recall  f1-score   support\n",
      "\n",
      "           2       0.82      0.78      0.80        23\n",
      "           3       0.94      0.91      0.93       131\n",
      "           4       0.62      0.83      0.71        18\n",
      "\n",
      "    accuracy                           0.88       172\n",
      "   macro avg       0.80      0.84      0.81       172\n",
      "weighted avg       0.89      0.88      0.89       172\n",
      "\n"
     ]
    }
   ],
   "source": [
    "from sklearn.metrics import classification_report\n",
    "\n",
    "best_predictions_xgb = best_xgb.predict(X_test) \n",
    "   \n",
    "# print classification report \n",
    "print(classification_report(y_test, best_predictions_xgb)) "
   ]
  },
  {
   "cell_type": "code",
   "execution_count": 11,
   "id": "e75386bf",
   "metadata": {
    "ExecuteTime": {
     "end_time": "2021-10-01T13:20:09.827513Z",
     "start_time": "2021-10-01T13:20:09.558453Z"
    }
   },
   "outputs": [
    {
     "data": {
      "text/plain": [
       "<AxesSubplot:title={'center':'Confusion Matrix'}, xlabel='Predicted label', ylabel='True label'>"
      ]
     },
     "execution_count": 11,
     "metadata": {},
     "output_type": "execute_result"
    },
    {
     "data": {
      "image/png": "[encoded data removed]",
      "text/plain": [
       "<Figure size 720x360 with 2 Axes>"
      ]
     },
     "metadata": {
      "needs_background": "light"
     },
     "output_type": "display_data"
    }
   ],
   "source": [
    "import scikitplot as skplt\n",
    "\n",
    "skplt.metrics.plot_confusion_matrix(\n",
    "    y_test, \n",
    "    best_predictions_xgb,\n",
    "    figsize=(10,5))"
   ]
  },
  {
   "cell_type": "markdown",
   "id": "fe55282a",
   "metadata": {},
   "source": [
    "## SVC"
   ]
  },
  {
   "cell_type": "code",
   "execution_count": 12,
   "id": "1596c73e",
   "metadata": {
    "ExecuteTime": {
     "end_time": "2021-10-01T13:20:09.843519Z",
     "start_time": "2021-10-01T13:20:09.828513Z"
    }
   },
   "outputs": [
    {
     "name": "stdout",
     "output_type": "stream",
     "text": [
      "              precision    recall  f1-score   support\n",
      "\n",
      "           2       0.38      0.65      0.48        23\n",
      "           3       0.92      0.70      0.80       131\n",
      "           4       0.45      0.83      0.59        18\n",
      "\n",
      "    accuracy                           0.71       172\n",
      "   macro avg       0.59      0.73      0.62       172\n",
      "weighted avg       0.80      0.71      0.73       172\n",
      "\n"
     ]
    }
   ],
   "source": [
    "from sklearn.metrics import classification_report\n",
    "\n",
    "best_predictions_svc = best_svc.predict(X_test) \n",
    "   \n",
    "# print classification report \n",
    "print(classification_report(y_test, best_predictions_svc)) "
   ]
  },
  {
   "cell_type": "code",
   "execution_count": 13,
   "id": "fd141855",
   "metadata": {
    "ExecuteTime": {
     "end_time": "2021-10-01T13:20:10.081571Z",
     "start_time": "2021-10-01T13:20:09.844518Z"
    }
   },
   "outputs": [
    {
     "data": {
      "text/plain": [
       "<AxesSubplot:title={'center':'Confusion Matrix'}, xlabel='Predicted label', ylabel='True label'>"
      ]
     },
     "execution_count": 13,
     "metadata": {},
     "output_type": "execute_result"
    },
    {
     "data": {
      "image/png": "[encoded data removed]",
      "text/plain": [
       "<Figure size 720x360 with 2 Axes>"
      ]
     },
     "metadata": {
      "needs_background": "light"
     },
     "output_type": "display_data"
    }
   ],
   "source": [
    "import scikitplot as skplt\n",
    "\n",
    "skplt.metrics.plot_confusion_matrix(\n",
    "    y_test, \n",
    "    best_predictions_svc,\n",
    "    figsize=(10,5))"
   ]
  },
  {
   "cell_type": "markdown",
   "id": "370542cd",
   "metadata": {},
   "source": [
    "## Random Forest"
   ]
  },
  {
   "cell_type": "code",
   "execution_count": 14,
   "id": "2dec81c2",
   "metadata": {
    "ExecuteTime": {
     "end_time": "2021-10-01T13:20:10.128442Z",
     "start_time": "2021-10-01T13:20:10.083571Z"
    }
   },
   "outputs": [
    {
     "name": "stdout",
     "output_type": "stream",
     "text": [
      "              precision    recall  f1-score   support\n",
      "\n",
      "           2       0.83      0.83      0.83        23\n",
      "           3       0.96      0.90      0.93       131\n",
      "           4       0.58      0.83      0.68        18\n",
      "\n",
      "    accuracy                           0.88       172\n",
      "   macro avg       0.79      0.85      0.81       172\n",
      "weighted avg       0.90      0.88      0.89       172\n",
      "\n"
     ]
    }
   ],
   "source": [
    "from sklearn.metrics import classification_report\n",
    "\n",
    "best_predictions_rf = best_RF.predict(X_test) \n",
    "   \n",
    "# print classification report \n",
    "print(classification_report(y_test, best_predictions_rf)) "
   ]
  },
  {
   "cell_type": "code",
   "execution_count": 15,
   "id": "31735126",
   "metadata": {
    "ExecuteTime": {
     "end_time": "2021-10-01T13:20:10.313745Z",
     "start_time": "2021-10-01T13:20:10.129442Z"
    }
   },
   "outputs": [
    {
     "data": {
      "text/plain": [
       "<AxesSubplot:title={'center':'Confusion Matrix'}, xlabel='Predicted label', ylabel='True label'>"
      ]
     },
     "execution_count": 15,
     "metadata": {},
     "output_type": "execute_result"
    },
    {
     "data": {
      "image/png": "[encoded data removed]",
      "text/plain": [
       "<Figure size 720x360 with 2 Axes>"
      ]
     },
     "metadata": {
      "needs_background": "light"
     },
     "output_type": "display_data"
    }
   ],
   "source": [
    "import scikitplot as skplt\n",
    "\n",
    "skplt.metrics.plot_confusion_matrix(\n",
    "    y_test, \n",
    "    best_predictions_rf,\n",
    "    figsize=(10,5))"
   ]
  },
  {
   "cell_type": "markdown",
   "id": "8a53a03d",
   "metadata": {},
   "source": [
    "## ANN"
   ]
  },
  {
   "cell_type": "code",
   "execution_count": 16,
   "id": "0a623185",
   "metadata": {
    "ExecuteTime": {
     "end_time": "2021-10-01T13:20:10.343742Z",
     "start_time": "2021-10-01T13:20:10.314745Z"
    }
   },
   "outputs": [
    {
     "name": "stdout",
     "output_type": "stream",
     "text": [
      "              precision    recall  f1-score   support\n",
      "\n",
      "           2       0.49      0.83      0.61        23\n",
      "           3       0.95      0.71      0.81       131\n",
      "           4       0.43      0.83      0.57        18\n",
      "\n",
      "    accuracy                           0.74       172\n",
      "   macro avg       0.62      0.79      0.66       172\n",
      "weighted avg       0.83      0.74      0.76       172\n",
      "\n"
     ]
    }
   ],
   "source": [
    "from sklearn.metrics import classification_report\n",
    "\n",
    "best_predictions_ann = best_ann.predict(X_test) \n",
    "   \n",
    "# print classification report \n",
    "print(classification_report(y_test, best_predictions_ann)) "
   ]
  },
  {
   "cell_type": "code",
   "execution_count": 17,
   "id": "d926a20c",
   "metadata": {
    "ExecuteTime": {
     "end_time": "2021-10-01T13:20:10.716046Z",
     "start_time": "2021-10-01T13:20:10.345266Z"
    }
   },
   "outputs": [
    {
     "data": {
      "text/plain": [
       "<AxesSubplot:title={'center':'Confusion Matrix'}, xlabel='Predicted label', ylabel='True label'>"
      ]
     },
     "execution_count": 17,
     "metadata": {},
     "output_type": "execute_result"
    },
    {
     "data": {
      "image/png": "[encoded data removed]",
      "text/plain": [
       "<Figure size 720x360 with 2 Axes>"
      ]
     },
     "metadata": {
      "needs_background": "light"
     },
     "output_type": "display_data"
    }
   ],
   "source": [
    "import scikitplot as skplt\n",
    "\n",
    "skplt.metrics.plot_confusion_matrix(\n",
    "    y_test, \n",
    "    best_predictions_ann,\n",
    "    figsize=(10,5))"
   ]
  },
  {
   "cell_type": "code",
   "execution_count": null,
   "id": "8cc72850",
   "metadata": {},
   "outputs": [],
   "source": []
  }
 ],
 "metadata": {
  "kernelspec": {
   "display_name": "Python 3",
   "language": "python",
   "name": "python3"
  },
  "language_info": {
   "codemirror_mode": {
    "name": "ipython",
    "version": 3
   },
   "file_extension": ".py",
   "mimetype": "text/x-python",
   "name": "python",
   "nbconvert_exporter": "python",
   "pygments_lexer": "ipython3",
   "version": "3.8.8"
  },
  "toc": {
   "base_numbering": 1,
   "nav_menu": {},
   "number_sections": true,
   "sideBar": true,
   "skip_h1_title": false,
   "title_cell": "Table of Contents",
   "title_sidebar": "Contents",
   "toc_cell": false,
   "toc_position": {},
   "toc_section_display": true,
   "toc_window_display": true
  }
 },
 "nbformat": 4,
 "nbformat_minor": 5
}
